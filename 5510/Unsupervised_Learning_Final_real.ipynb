{
 "cells": [
  {
   "cell_type": "markdown",
   "id": "401c387a-40eb-42d2-be2a-e8a80a7d08c1",
   "metadata": {},
   "source": [
    "# Recommending Retail Items for Purchase  \n",
    "In this notebook, I will be creating recommendations for items for purchase. An anonymous online retailer has provided a dataset of transactions on Kaggle, https://www.kaggle.com/datasets/satyajeetkumarraj/online-retail-dataset, which I'll be using. I'll use several collaborative filtering methods to generate recommendations and create an assessment mechanism to evaluate their performance. In the end, I'll recommend the use of one approach.\n",
    "\n",
    "## Exploratory Data Analysis  \n",
    "Before I build any models, I'll load, explore, and refine the data as necessary"
   ]
  },
  {
   "cell_type": "code",
   "execution_count": 1,
   "id": "eb706477-f6c7-4d06-bf87-247bbf1912c6",
   "metadata": {},
   "outputs": [],
   "source": [
    "import warnings\n",
    "warnings.filterwarnings(\"ignore\")\n",
    "import pandas as pd\n",
    "import matplotlib.pyplot as plt\n",
    "import seaborn as sns\n",
    "import numpy as np"
   ]
  },
  {
   "cell_type": "code",
   "execution_count": 3,
   "id": "6b6d4019-1f0c-4aa9-9d0e-5571c77c129c",
   "metadata": {},
   "outputs": [
    {
     "name": "stdout",
     "output_type": "stream",
     "text": [
      "<class 'pandas.core.frame.DataFrame'>\n",
      "RangeIndex: 525461 entries, 0 to 525460\n",
      "Data columns (total 8 columns):\n",
      " #   Column       Non-Null Count   Dtype         \n",
      "---  ------       --------------   -----         \n",
      " 0   Invoice      525461 non-null  object        \n",
      " 1   StockCode    525461 non-null  object        \n",
      " 2   Description  522533 non-null  object        \n",
      " 3   Quantity     525461 non-null  int64         \n",
      " 4   InvoiceDate  525461 non-null  datetime64[ns]\n",
      " 5   Price        525461 non-null  float64       \n",
      " 6   Customer ID  417534 non-null  float64       \n",
      " 7   Country      525461 non-null  object        \n",
      "dtypes: datetime64[ns](1), float64(2), int64(1), object(4)\n",
      "memory usage: 32.1+ MB\n"
     ]
    },
    {
     "data": {
      "text/html": [
       "<div>\n",
       "<style scoped>\n",
       "    .dataframe tbody tr th:only-of-type {\n",
       "        vertical-align: middle;\n",
       "    }\n",
       "\n",
       "    .dataframe tbody tr th {\n",
       "        vertical-align: top;\n",
       "    }\n",
       "\n",
       "    .dataframe thead th {\n",
       "        text-align: right;\n",
       "    }\n",
       "</style>\n",
       "<table border=\"1\" class=\"dataframe\">\n",
       "  <thead>\n",
       "    <tr style=\"text-align: right;\">\n",
       "      <th></th>\n",
       "      <th>Invoice</th>\n",
       "      <th>StockCode</th>\n",
       "      <th>Description</th>\n",
       "      <th>Quantity</th>\n",
       "      <th>InvoiceDate</th>\n",
       "      <th>Price</th>\n",
       "      <th>Customer ID</th>\n",
       "      <th>Country</th>\n",
       "    </tr>\n",
       "  </thead>\n",
       "  <tbody>\n",
       "    <tr>\n",
       "      <th>0</th>\n",
       "      <td>489434</td>\n",
       "      <td>85048</td>\n",
       "      <td>15CM CHRISTMAS GLASS BALL 20 LIGHTS</td>\n",
       "      <td>12</td>\n",
       "      <td>2009-12-01 07:45:00</td>\n",
       "      <td>6.95</td>\n",
       "      <td>13085.0</td>\n",
       "      <td>United Kingdom</td>\n",
       "    </tr>\n",
       "    <tr>\n",
       "      <th>1</th>\n",
       "      <td>489434</td>\n",
       "      <td>79323P</td>\n",
       "      <td>PINK CHERRY LIGHTS</td>\n",
       "      <td>12</td>\n",
       "      <td>2009-12-01 07:45:00</td>\n",
       "      <td>6.75</td>\n",
       "      <td>13085.0</td>\n",
       "      <td>United Kingdom</td>\n",
       "    </tr>\n",
       "    <tr>\n",
       "      <th>2</th>\n",
       "      <td>489434</td>\n",
       "      <td>79323W</td>\n",
       "      <td>WHITE CHERRY LIGHTS</td>\n",
       "      <td>12</td>\n",
       "      <td>2009-12-01 07:45:00</td>\n",
       "      <td>6.75</td>\n",
       "      <td>13085.0</td>\n",
       "      <td>United Kingdom</td>\n",
       "    </tr>\n",
       "    <tr>\n",
       "      <th>3</th>\n",
       "      <td>489434</td>\n",
       "      <td>22041</td>\n",
       "      <td>RECORD FRAME 7\" SINGLE SIZE</td>\n",
       "      <td>48</td>\n",
       "      <td>2009-12-01 07:45:00</td>\n",
       "      <td>2.10</td>\n",
       "      <td>13085.0</td>\n",
       "      <td>United Kingdom</td>\n",
       "    </tr>\n",
       "    <tr>\n",
       "      <th>4</th>\n",
       "      <td>489434</td>\n",
       "      <td>21232</td>\n",
       "      <td>STRAWBERRY CERAMIC TRINKET BOX</td>\n",
       "      <td>24</td>\n",
       "      <td>2009-12-01 07:45:00</td>\n",
       "      <td>1.25</td>\n",
       "      <td>13085.0</td>\n",
       "      <td>United Kingdom</td>\n",
       "    </tr>\n",
       "  </tbody>\n",
       "</table>\n",
       "</div>"
      ],
      "text/plain": [
       "  Invoice StockCode                          Description  Quantity  \\\n",
       "0  489434     85048  15CM CHRISTMAS GLASS BALL 20 LIGHTS        12   \n",
       "1  489434    79323P                   PINK CHERRY LIGHTS        12   \n",
       "2  489434    79323W                  WHITE CHERRY LIGHTS        12   \n",
       "3  489434     22041         RECORD FRAME 7\" SINGLE SIZE         48   \n",
       "4  489434     21232       STRAWBERRY CERAMIC TRINKET BOX        24   \n",
       "\n",
       "          InvoiceDate  Price  Customer ID         Country  \n",
       "0 2009-12-01 07:45:00   6.95      13085.0  United Kingdom  \n",
       "1 2009-12-01 07:45:00   6.75      13085.0  United Kingdom  \n",
       "2 2009-12-01 07:45:00   6.75      13085.0  United Kingdom  \n",
       "3 2009-12-01 07:45:00   2.10      13085.0  United Kingdom  \n",
       "4 2009-12-01 07:45:00   1.25      13085.0  United Kingdom  "
      ]
     },
     "execution_count": 3,
     "metadata": {},
     "output_type": "execute_result"
    }
   ],
   "source": [
    "purchases = pd.read_excel('./online_retail.xlsx')\n",
    "purchases.info()\n",
    "purchases.head()"
   ]
  },
  {
   "cell_type": "code",
   "execution_count": 4,
   "id": "45f95f7f-7812-45d1-b7cf-76f71b22429e",
   "metadata": {},
   "outputs": [],
   "source": [
    "# Select and convert relevant columns\n",
    "purchases = purchases.rename(columns={\n",
    "    'Customer ID': 'customer',\n",
    "    'StockCode': 'product',\n",
    "    'InvoiceDate': 'timestamp'\n",
    "})\n",
    "purchases = purchases[['customer', 'product', 'timestamp']]\n",
    "\n",
    "# Convert timestamp to epoch time for simple sorting\n",
    "purchases['timestamp'] = pd.to_datetime(purchases['timestamp'])\n",
    "purchases['timestamp'] = purchases['timestamp'].astype(int) // 10**9"
   ]
  },
  {
   "cell_type": "code",
   "execution_count": 5,
   "id": "6623e913-73a0-40b3-8762-ce9ef00ac8ca",
   "metadata": {},
   "outputs": [
    {
     "name": "stdout",
     "output_type": "stream",
     "text": [
      "525461\n",
      "417534\n"
     ]
    }
   ],
   "source": [
    "# Count NAs\n",
    "print(len(purchases))\n",
    "purchases.isna().sum()\n",
    "purchases = purchases.dropna()\n",
    "print(len(purchases))"
   ]
  },
  {
   "cell_type": "markdown",
   "id": "8541d79d-6ff5-4439-9898-faa06964cf76",
   "metadata": {},
   "source": [
    "### About the Columns\n",
    "This data has 8 columns:  \n",
    "**Invoice** indicates which items were purchased together as part of the same transaction. It may be interesting to link products bought together in the same transaction, but I'm choosing to prioritise ites bought by the same customer and so will drop the column.  \n",
    "**StockCode** is an id for each kind of product. This will be vital to my investigation.  \n",
    "**Description** describes the product. This would be useful for any QA performed \"by hand\", looking at individual similarities or recommendations. Since I'm focusing on quantitative evaluation, this column is dropped.  \n",
    "**Quantity** indicates how much of a single product is purchased at once. I choose to ignore this column on the theory that a single customer buying 100 of product A and 100 of product B does not mean they're 100 times more related than if they bought one of each.  \n",
    "**Invoice Date** tells us down to the minute when a transaction is complete. This will be important for identifying the most recent purchase. I transform it to epoch time for easy sorting later.  \n",
    "**Price** is how much the product costs. This is not important for this investigation and dropped.  \n",
    "**Customer ID** is vital for linking together products and is saved.  \n",
    "**Country** indicates the country of residence of the customer. I ignored this column, on the theory that customers from different countries don't behave that differently if they're visiting this same online store. I note that as a UK dataset, the UK is present in the preview.\n",
    "\n",
    "So, I narrow my columns down to three: **Customer**, **Product**, and **Timestamp**. I do a quick check for null values of these core columns and remove any rows that have them missing. A substantial chunk of transactions are missing customer information.\n",
    "\n",
    "### Purchase Trends"
   ]
  },
  {
   "cell_type": "code",
   "execution_count": 6,
   "id": "3a842251-bf6c-4c4b-a3ae-5e9c749b0e1c",
   "metadata": {},
   "outputs": [
    {
     "name": "stdout",
     "output_type": "stream",
     "text": [
      "timerange in days 373.5111111111111\n"
     ]
    }
   ],
   "source": [
    "# Get time range in days\n",
    "time_in_days = (purchases.timestamp.max() - purchases.timestamp.min()) / (60 * 60 * 24) # seconds to days\n",
    "print(f'timerange in days {time_in_days}')"
   ]
  },
  {
   "cell_type": "code",
   "execution_count": 12,
   "id": "c38c6777-04bf-440b-a771-f9928bdd697a",
   "metadata": {},
   "outputs": [
    {
     "name": "stdout",
     "output_type": "stream",
     "text": [
      "Unique customers: 4383\n",
      "Unique products: 4031\n",
      "Number of purchases of products: 417534\n"
     ]
    }
   ],
   "source": [
    "# Num customers, products, transactions\n",
    "print(f'Unique customers: {len(purchases[\"customer\"].unique())}')\n",
    "print(f'Unique products: {len(purchases[\"product\"].unique())}')\n",
    "print(f'Number of purchases of products: {len(purchases)}')"
   ]
  },
  {
   "cell_type": "code",
   "execution_count": 22,
   "id": "48081dc4-be32-46e6-933b-4edbbfb57ec5",
   "metadata": {},
   "outputs": [
    {
     "name": "stdout",
     "output_type": "stream",
     "text": [
      "Most purchases per visitor\n",
      "       customer  purchase_count\n",
      "1869   14911.0            5710\n",
      "4058   17841.0            5114\n",
      "1631   14606.0            3927\n",
      "1291   14156.0            2710\n",
      "254    12748.0            2665\n",
      "4065   17850.0            2515\n",
      "3081   16549.0            2274\n",
      "2165   15311.0            2226\n",
      "1570   14527.0            1826\n",
      "1662   14646.0            1805\n",
      "3249   16782.0            1703\n",
      "511    13089.0            1581\n",
      "1943   15005.0            1388\n",
      "3709   17377.0            1377\n",
      "503    13081.0            1369\n",
      "1968   15039.0            1302\n",
      "855    13564.0            1233\n",
      "1401   14298.0            1228\n",
      "2484   15768.0            1213\n",
      "1689   14680.0            1138\n",
      "3763   17448.0            1133\n",
      "4114   17920.0            1110\n",
      "3867   17589.0            1100\n",
      "3807   17511.0            1058\n",
      "957    13694.0             973\n"
     ]
    },
    {
     "data": {
      "image/png": "[encoded data removed]",
      "text/plain": [
       "<Figure size 1000x600 with 1 Axes>"
      ]
     },
     "metadata": {},
     "output_type": "display_data"
    },
    {
     "name": "stdout",
     "output_type": "stream",
     "text": [
      "Mean purchase count per customer: 95.2621492128679\n",
      "Median purchase count per customer: 44.0\n",
      "Modal purchase count per customer: 0    1\n",
      "Name: purchase_count, dtype: int64\n",
      "Number of visitors with >1 purchase: 96.94273328770248\n",
      "Number of visitors with >10 purchase: 85.37531371206936\n",
      "Number of visitors with >100 purchase: 25.87268993839836\n"
     ]
    }
   ],
   "source": [
    "# Most purchases per user\n",
    "purchases_per_customer = purchases.groupby('customer').size()\n",
    "purchases_per_customer = purchases_per_customer.reset_index(name='purchase_count').sort_values(by='purchase_count', ascending=False)\n",
    "print('Most purchases per visitor\\n', purchases_per_customer.head(25))\n",
    "\n",
    "\n",
    "customers_per_purchase_count = purchases_per_customer.groupby('purchase_count').size()\n",
    "customers_per_purchase_count.reset_index(name='customers_per_purchase_count').sort_values(by='customers_per_purchase_count', ascending=False)\n",
    "plt.figure(figsize=(10, 6))\n",
    "visitors_per_purchase_count.plot(kind='line', title='Number of customers with N purchases')\n",
    "plt.xlabel('N Purchases')\n",
    "plt.ylabel('Number of Customers with N Purchases')\n",
    "plt.grid(axis='y', linestyle='--', alpha=0.7)\n",
    "plt.show()\n",
    "\n",
    "print(f'Mean purchase count per customer: {purchases_per_customer[\"purchase_count\"].mean()}')\n",
    "print(f'Median purchase count per customer: {purchases_per_customer[\"purchase_count\"].median()}')\n",
    "print(f'Modal purchase count per customer: {purchases_per_customer[\"purchase_count\"].mode()}')\n",
    "\n",
    "greater_one_purchase_customers = purchases_per_visitor[purchases_per_visitor['purchase_count'] > 1]\n",
    "greater_one_purchase_customers_pct = len(greater_one_purchase_customers) / len(purchases_per_customer)\n",
    "print(f'Number of visitors with >1 purchase: {100 * greater_one_purchase_customers_pct}')\n",
    "\n",
    "greater_ten_purchases_customers = purchases_per_visitor[purchases_per_visitor['purchase_count'] > 10]\n",
    "greater_ten_purchases_customers_pct = len(greater_ten_purchases_customers) / len(purchases_per_customer)\n",
    "print(f'Number of visitors with >10 purchase: {100 * greater_ten_purchases_customers_pct}')\n",
    "\n",
    "greater_hundred_purchases_customers = purchases_per_visitor[purchases_per_visitor['purchase_count'] > 100]\n",
    "greater_hundred_purchases_customers_pct = len(greater_hundred_purchases_customers) / len(purchases_per_customer)\n",
    "print(f'Number of visitors with >100 purchase: {100 * greater_hundred_purchases_customers_pct}')"
   ]
  },
  {
   "cell_type": "markdown",
   "id": "2978d860-bbe0-40a3-86ba-ef7b258c9d25",
   "metadata": {},
   "source": [
    "### Comment on purchase trends\n",
    "First, this data represents 417,534 purchases over 373.5 days. This data is sparse, since the mean purchase count is 95 products and the median purchase count is 44 products, but there are 4,000 products available. Customers typically interact with a small subset of products.  \n",
    "The largest number of purchases for a single visitor is 5,710, which is pretty large, though we have to remember that these are purchases of individual products. That said, there is a dramatic power law in purchase number, with most visitors purchasing a very small amount, and very few visitors purchasing larger numbers of items over the sample period.  \n",
    "Of course, only users with more than one purchase can possibly connect to products. Plausibly, customers with even more purchases will have a better signal to noise ratio. I created three datasets with customers having more than 1, more than 10, and more than 100 purchases. These represent 97%, 85%, and 26% of customers respectively. "
   ]
  },
  {
   "cell_type": "code",
   "execution_count": 27,
   "id": "b249a0ee-2c59-4a8c-9cfc-6bfd814b878b",
   "metadata": {},
   "outputs": [
    {
     "name": "stdout",
     "output_type": "stream",
     "text": [
      "Greater Than One Purchase:\n",
      "Unique customers: 4249\n",
      "Unique products: 4029\n",
      "Number of purchases of products: 417400\n",
      "\n",
      "Greater Than Ten Purchases:\n",
      "Unique customers: 3742\n",
      "Unique products: 4027\n",
      "Number of purchases of products: 414331\n",
      "\n",
      "Grearter Than One Hundred Purchases:\n",
      "Unique customers: 1134\n",
      "Unique products: 3972\n",
      "Number of purchases of products: 304066\n"
     ]
    }
   ],
   "source": [
    "greater_one_purchase_set = greater_one_purchase_customers['customer'].tolist()\n",
    "greater_one_purchases =  purchases[purchases['customer'].isin(greater_one_purchase_set)]\n",
    "print('Greater Than One Purchase:')\n",
    "print(f'Unique customers: {len(greater_one_purchases[\"customer\"].unique())}')\n",
    "print(f'Unique products: {len(greater_one_purchases[\"product\"].unique())}')\n",
    "print(f'Number of purchases of products: {len(greater_one_purchases)}\\n')\n",
    "\n",
    "print('Greater Than Ten Purchases:')\n",
    "greater_ten_purchases_set = greater_ten_purchases_customers['customer'].tolist()\n",
    "greater_ten_purchases =  purchases[purchases['customer'].isin(greater_ten_purchases_set)]\n",
    "print(f'Unique customers: {len(greater_ten_purchases[\"customer\"].unique())}')\n",
    "print(f'Unique products: {len(greater_ten_purchases[\"product\"].unique())}')\n",
    "print(f'Number of purchases of products: {len(greater_ten_purchases)}\\n')\n",
    "\n",
    "print('Grearter Than One Hundred Purchases:')\n",
    "greater_hundred_purchases_set = greater_hundred_purchases_customers['customer'].tolist()\n",
    "greater_hundred_purchases =  purchases[purchases['customer'].isin(greater_hundred_purchases_set)]\n",
    "print(f'Unique customers: {len(greater_hundred_purchases[\"customer\"].unique())}')\n",
    "print(f'Unique products: {len(greater_hundred_purchases[\"product\"].unique())}')\n",
    "print(f'Number of purchases of products: {len(greater_hundred_purchases)}')\n",
    "\n",
    "\n",
    "# Redo the stats ?"
   ]
  },
  {
   "cell_type": "markdown",
   "id": "69a20332-e4bb-4df6-b470-fba0af29cdf6",
   "metadata": {},
   "source": [
    "### Comment on purchase trends for multi-item purchasers\n",
    "Limiting out data to customers with multiple purchases reduces the data size. There are 417,400 purchases of 4,029 products by 4,249 customers when thresholding by 1 purchase. There are 414,331 purchases of 4,027 products by 3,742 customers when thresholding by 10 purchases. And there are 304,066 purchases of 3,972 products by 1,134 customers when thresholding by 100 purchases.   \n",
    "Based on these numbers, I expect the data to improve when increasing the threshold to 10, but I am not sure what will happen when threshholding by 100. \n",
    "\n",
    "### Time of Day Sanity Check\n",
    "Now, I get a quick look at the time of day of these purchases, just to check that everything looks normal"
   ]
  },
  {
   "cell_type": "code",
   "execution_count": 69,
   "id": "abfd2d0d-fb2e-4ee8-ab54-8a4c4e03d68e",
   "metadata": {},
   "outputs": [
    {
     "data": {
      "image/png": "[encoded data removed]",
      "text/plain": [
       "<Figure size 1000x600 with 1 Axes>"
      ]
     },
     "metadata": {},
     "output_type": "display_data"
    }
   ],
   "source": [
    "# Get an idea of purchase behavior over time. Graph num purchases binned by hour\n",
    "min_hour = greater_one_purchases['timestamp'].min() // (60 * 60)\n",
    "greater_one_purchases['hour'] = greater_one_purchases['timestamp'] // (60 * 60) - min_hour\n",
    "greater_one_purchases_per_hour = greater_one_purchases.groupby('hour').size()\n",
    "\n",
    "min_hour = greater_ten_purchases['timestamp'].min() // (60 * 60)\n",
    "greater_ten_purchases['hour'] = greater_ten_purchases['timestamp'] // (60 * 60) - min_hour\n",
    "greater_ten_purchases_per_hour = greater_ten_purchases.groupby('hour').size()\n",
    "\n",
    "\n",
    "min_hour = greater_hundred_purchases['timestamp'].min() // (60 * 60)\n",
    "greater_hundred_purchases['hour'] = greater_hundred_purchases['timestamp'] // (60 * 60) - min_hour\n",
    "greater_hundred_purchases_per_hour = greater_hundred_purchases.groupby('hour').size()\n",
    "\n",
    "\n",
    "plt.figure(figsize=(10, 6))\n",
    "greater_one_purchases_per_hour.plot(kind='line', title='Number of Purchases by Hour, threshold 1')\n",
    "greater_ten_purchases_per_hour.plot(kind='line', title='Number of Purchases by Hour, threshold 1')\n",
    "greater_hundred_purchases_per_hour.plot(kind='line', title='Number of Purchases by Hour, threshold 1')\n",
    "plt.xlabel('Hourly Bin')\n",
    "plt.ylabel('Number of Purchases')\n",
    "plt.grid(axis='y', linestyle='--', alpha=0.7)\n",
    "plt.show()\n"
   ]
  },
  {
   "cell_type": "markdown",
   "id": "eecb9117-2429-4ede-9ce0-146a4dcc4d9e",
   "metadata": {},
   "source": [
    "### Final comment on trends\n",
    "Third, the number of purchases per hour looks very smooth, with spikes as tall as ~800 and displaying normal time of day and day of year cycles. I note there is a time period of perhaps a few weeks where there are dramatically fewer purchases. I'm not sure why this is, perhaps the store stopped accepting orders at this time. I don't think it will ruin the analysis I'm going to do\n",
    "\n",
    "With our dataset defined, let's start modeling\n",
    "## Modeling\n",
    "As stated, I'll be solving a recommendations problem. The recommendations will be products that are similar to products that a customer has purchased in the past. I'll explore several ways of creating item-item similarity matrices including Collaboartive Filtering with Cosine and Jaccard Similarity measures, as well as a Nonnegative Matrix Factorization that uses cosine similarity on the intermediate matrices. \n"
   ]
  },
  {
   "cell_type": "markdown",
   "id": "1b4fd5dd-6ef3-4d64-8daa-53b9379df3f2",
   "metadata": {},
   "source": [
    "### Generating and evaluating recommendations\n",
    "To find a given user's recommendations, I will take all of the products they've purchased and look up similar products in the provided similarities matrix. If a product is similar to multiple products in a user's purchase history, their score will be the sum of the similarity scores. Then, I rank the recommendations by score and take the top 50. Customers whose most recent purchase appear in their recommendations are considered a \"success\", and are otherwise considered a \"fail\" case. So, a recommender with an accuracy of 10% indicates that 10% of customers have their most recent purchase in their top 50 recommendations based on the past purchases.\n",
    "\n",
    "A threshhold in recommendation amount is necessary so recommendations lists don't grow to cover a huge percentage of the available products. The threshold was kept fairly high (compared to the 5-10 generall shown on a website) in order to make obvious the difference between models. A small number of recommendations would result in uniformly low accuracy, making it harder to compare techniques. "
   ]
  },
  {
   "cell_type": "code",
   "execution_count": 71,
   "id": "9d4ee144-bf74-44b8-8975-11aa895711b6",
   "metadata": {},
   "outputs": [],
   "source": [
    "# Iterate over each user and their group of past purchases, pullin gout recommendations from the helper method above\n",
    "def get_all_recommendations(past_purchases, sim_matrix, item_to_index, index_to_item):\n",
    "    test_user_recommendations = {}\n",
    "    for user, group in past_purchases.groupby('customer'):\n",
    "        past_purchase_list = group['product'].tolist()\n",
    "        test_user_recommendations[user] = get_recommendations_for_user(past_purchase_list, sim_matrix, item_to_index, index_to_item)\n",
    "        \n",
    "    return test_user_recommendations\n",
    "\n",
    "def get_recommendations_for_user(past_purchase_list, sim_matrix, item_to_index, index_to_item):\n",
    "    recommendation_scores = {}\n",
    "    for item in past_purchase_list:\n",
    "        if item in item_to_index:\n",
    "            item_idx = item_to_index[item]\n",
    "            # Get similarity scores directly from dense matrix\n",
    "            similarity_scores = sim_matrix[item_idx]\n",
    "\n",
    "            # Iterate through all items and accumulate scores. If the same item is similar to multiple past purchases, sum their scores\n",
    "            for idx, score in enumerate(similarity_scores):\n",
    "                if score == 0:\n",
    "                    continue\n",
    "                item = index_to_item[idx]\n",
    "                #if score > 0 and index_to_item[idx] not in test_user_items:  # Skip items the user already interacted with\n",
    "                recommendation_scores[item] = recommendation_scores.get(item, 0) + score\n",
    "    \n",
    "    # These scores are not very principled, limit to top ten by score, but don't return score info\n",
    "    sorted_recommendations = sorted(recommendation_scores.items(), key=lambda x: x[1], reverse=True)\n",
    "    top_recommendations = [item for item, _ in sorted_recommendations[:50]]\n",
    "\n",
    "    return top_recommendations\n",
    "\n",
    "\n",
    "# Finally, see if the next purchased item appears in the recommendations, recording successes and failures\n",
    "def get_accuracy(recommendations, most_recent_purchases):\n",
    "    successes = 0\n",
    "    fails = 0\n",
    "    for user, purchase in most_recent_purchases[['customer', 'product']].values:\n",
    "        if purchase in recommendations[user]:\n",
    "            successes = successes + 1\n",
    "        else:\n",
    "            fails = fails + 1\n",
    "    return successes / (successes + fails)"
   ]
  },
  {
   "cell_type": "markdown",
   "id": "e40577a1-04d6-4b3f-9c7b-3605d76dda8c",
   "metadata": {},
   "source": [
    "#### Train and test dataset\n",
    "I'll train purchase similarities on 80% of the customers with multiple purchases. Then, for the remaining 20% of customers, I'll separate their last purchase, which can be though of as a result label, from the rest of their past purchases. "
   ]
  },
  {
   "cell_type": "code",
   "execution_count": 70,
   "id": "9401ef1a-a7ba-4579-81ee-3fc40bf0f7bf",
   "metadata": {},
   "outputs": [
    {
     "name": "stdout",
     "output_type": "stream",
     "text": [
      "Train and test sizes after splitting on customer: train: 327400, test: 90000\n",
      "Dataset sizes after splitting out most recent purchase: Most Recent: 850, Past: 89150\n",
      "Latest and past purchase sizes after splitting out test customers: train: 850, test: 850\n"
     ]
    }
   ],
   "source": [
    "from sklearn.model_selection import train_test_split\n",
    "\n",
    "# Do a split at the customer level \n",
    "greater_one_unique_customers = greater_one_purchases[['customer']].drop_duplicates()\n",
    "greater_one_train_customers, greater_one_test_customers = train_test_split(greater_one_unique_customers, test_size=0.2, random_state=91)\n",
    "\n",
    "# Use the customer level split to split the purchases data\n",
    "greater_one_train = greater_one_purchases[greater_one_purchases['customer'].isin(greater_one_train_customers['customer'])]\n",
    "greater_one_test = greater_one_purchases[greater_one_purchases['customer'].isin(greater_one_test_customers['customer'])]\n",
    "print(f'Train and test sizes after splitting on customer: train: {len(greater_one_train)}, test: {len(greater_one_test)}')\n",
    "\n",
    "# Now, separate out the most recent purchase from past purchases in the test dataset\n",
    "test_greater_one_most_recent_purchase = greater_one_test.loc[greater_one_test.groupby('customer')['timestamp'].idxmax()]\n",
    "test_greater_one_past_purchases = greater_one_test.drop(test_greater_one_most_recent_purchase.index)\n",
    "print(f'Dataset sizes after splitting out most recent purchase: Most Recent: {len(test_greater_one_most_recent_purchase)}, Past: {len(test_greater_one_past_purchases)}')\n",
    "\n",
    "# As a quick check, make sure they have the same number of customers\n",
    "greater_one_most_recent_customers = test_greater_one_most_recent_purchase[['customer']].drop_duplicates()\n",
    "greater_one_past_customer = test_greater_one_past_purchases[['customer']].drop_duplicates()\n",
    "print(f'Latest and past purchase sizes after splitting out test customers: train: {len(greater_one_most_recent_customers)}, test: {len(greater_one_past_customer)}')\n",
    "\n",
    "\n",
    "# Having verified this method, apply to other two dataset thresholds\n",
    "greater_ten_unique_customers = greater_ten_purchases[['customer']].drop_duplicates()\n",
    "greater_ten_train_customers, greater_ten_test_customers = train_test_split(greater_ten_unique_customers, test_size=0.2, random_state=91)\n",
    "greater_ten_train = greater_ten_purchases[greater_ten_purchases['customer'].isin(greater_ten_train_customers['customer'])]\n",
    "greater_ten_test = greater_ten_purchases[greater_ten_purchases['customer'].isin(greater_ten_test_customers['customer'])]\n",
    "test_greater_ten_most_recent_purchase = greater_ten_test.loc[greater_ten_test.groupby('customer')['timestamp'].idxmax()]\n",
    "test_greater_ten_past_purchases = greater_ten_test.drop(test_greater_ten_most_recent_purchase.index)\n",
    "\n",
    "greater_hundred_unique_customers = greater_hundred_purchases[['customer']].drop_duplicates()\n",
    "greater_hundred_train_customers, greater_hundred_test_customers = train_test_split(greater_hundred_unique_customers, test_size=0.2, random_state=91)\n",
    "greater_hundred_train = greater_hundred_purchases[greater_hundred_purchases['customer'].isin(greater_hundred_train_customers['customer'])]\n",
    "greater_hundred_test = greater_hundred_purchases[greater_hundred_purchases['customer'].isin(greater_hundred_test_customers['customer'])]\n",
    "test_greater_hundred_most_recent_purchase = greater_hundred_test.loc[greater_hundred_test.groupby('customer')['timestamp'].idxmax()]\n",
    "test_greater_hundred_past_purchases = greater_hundred_test.drop(test_greater_hundred_most_recent_purchase.index)\n"
   ]
  },
  {
   "cell_type": "markdown",
   "id": "4444dbf7-99f0-47bf-91c4-96dc66afc8c7",
   "metadata": {},
   "source": [
    "### Cosine Similarty"
   ]
  },
  {
   "cell_type": "code",
   "execution_count": 72,
   "id": "1c8285de-534b-45f5-9208-e62873d6220b",
   "metadata": {},
   "outputs": [
    {
     "name": "stdout",
     "output_type": "stream",
     "text": [
      "(3981, 3399)\n",
      "(3981, 3981)\n"
     ]
    }
   ],
   "source": [
    "from sklearn.metrics.pairwise import cosine_similarity\n",
    "from scipy.sparse import csr_matrix\n",
    "\n",
    "item_user_matrix_one = pd.crosstab(greater_one_train['product'], greater_one_train['customer'])\n",
    "print(item_user_matrix_one.shape)\n",
    "\n",
    "# Save the indices for later\n",
    "item_to_index_one = {item: idx for idx, item in enumerate(item_user_matrix_one.index)}\n",
    "index_to_item_one = {idx: item for item, idx in item_to_index_one.items()}\n",
    "\n",
    "# This data is sparse, do sparse operations\n",
    "sparse_item_user_matrix_one = csr_matrix(item_user_matrix_one)\n",
    "\n",
    "# Now, create item similarity matrix\n",
    "cosine_similarity_matrix_one = cosine_similarity(sparse_item_user_matrix_one, dense_output=True)\n",
    "print(cosine_similarity_matrix_one.shape)\n",
    "\n",
    "# Repeat for other thresholds\n",
    "item_user_matrix_ten = pd.crosstab(greater_ten_train['product'], greater_ten_train['customer'])\n",
    "item_to_index_ten = {item: idx for idx, item in enumerate(item_user_matrix_ten.index)}\n",
    "index_to_item_ten = {idx: item for item, idx in item_to_index_ten.items()}\n",
    "sparse_item_user_matrix_ten = csr_matrix(item_user_matrix_ten)\n",
    "cosine_similarity_matrix_ten = cosine_similarity(sparse_item_user_matrix_ten, dense_output=True)\n",
    "\n",
    "item_user_matrix_hundred = pd.crosstab(greater_hundred_train['product'], greater_hundred_train['customer'])\n",
    "item_to_index_hundred = {item: idx for idx, item in enumerate(item_user_matrix_hundred.index)}\n",
    "index_to_item_hundred = {idx: item for item, idx in item_to_index_hundred.items()}\n",
    "sparse_item_user_matrix_hundred = csr_matrix(item_user_matrix_hundred)\n",
    "cosine_similarity_matrix_hundred = cosine_similarity(sparse_item_user_matrix_hundred, dense_output=True)\n"
   ]
  },
  {
   "cell_type": "code",
   "execution_count": 73,
   "id": "69132090-f4df-488d-9f82-5e23b7ba06b9",
   "metadata": {},
   "outputs": [
    {
     "name": "stdout",
     "output_type": "stream",
     "text": [
      "Accuracy of cosine similarity based recommender, threshold at one: 0.2564705882352941\n"
     ]
    }
   ],
   "source": [
    "cosine_recommendations_one = get_all_recommendations(test_greater_one_past_purchases, cosine_similarity_matrix_one, item_to_index_one, index_to_item_one)\n",
    "cosine_accuracy_one = get_accuracy(cosine_recommendations_one, test_greater_one_most_recent_purchase)\n",
    "print(f'Accuracy of cosine similarity based recommender, threshold at one: {cosine_accuracy}')"
   ]
  },
  {
   "cell_type": "code",
   "execution_count": 74,
   "id": "8ca085ce-4c65-4579-9164-f9a100840dfd",
   "metadata": {},
   "outputs": [
    {
     "name": "stdout",
     "output_type": "stream",
     "text": [
      "Accuracy of cosine similarity based recommender, threshold at ten: 0.2523364485981308\n"
     ]
    }
   ],
   "source": [
    "cosine_recommendations_ten = get_all_recommendations(test_greater_ten_past_purchases, cosine_similarity_matrix_ten, item_to_index_ten, index_to_item_ten)\n",
    "cosine_accuracy_ten = get_accuracy(cosine_recommendations_ten, test_greater_ten_most_recent_purchase)\n",
    "print(f'Accuracy of cosine similarity based recommender, threshold at ten: {cosine_accuracy_ten}')"
   ]
  },
  {
   "cell_type": "code",
   "execution_count": 75,
   "id": "8fc5e93f-b8ab-4879-8082-5b4f2d0b51ad",
   "metadata": {},
   "outputs": [
    {
     "name": "stdout",
     "output_type": "stream",
     "text": [
      "Accuracy of cosine similarity based recommender, threshold at one hundred: 0.17180616740088106\n"
     ]
    }
   ],
   "source": [
    "cosine_recommendations_hundred = get_all_recommendations(test_greater_hundred_past_purchases, cosine_similarity_matrix_hundred, item_to_index_hundred, index_to_item_hundred)\n",
    "cosine_accuracy_hundred = get_accuracy(cosine_recommendations_hundred, test_greater_hundred_most_recent_purchase)\n",
    "print(f'Accuracy of cosine similarity based recommender, threshold at one hundred: {cosine_accuracy_hundred}')"
   ]
  },
  {
   "cell_type": "code",
   "execution_count": 76,
   "id": "09fd935e-a53e-4e05-8372-faa005e67ead",
   "metadata": {},
   "outputs": [
    {
     "name": "stdout",
     "output_type": "stream",
     "text": [
      "Accuracy of jaccard similarity based recommender, threshold at one: 0.36470588235294116\n"
     ]
    }
   ],
   "source": [
    "## Jaccard\n",
    "from sklearn.metrics import pairwise_distances\n",
    "jaccard_similarity_one = 1 - pairwise_distances(sparse_item_user_matrix_one.toarray(), metric=\"jaccard\")\n",
    "jaccard_recommendations_one = get_all_recommendations(test_greater_one_past_purchases, jaccard_similarity_one, item_to_index_one, index_to_item_one)\n",
    "jaccard_accuracy_one = get_accuracy(jaccard_recommendations_one, test_greater_one_most_recent_purchase)\n",
    "print(f'Accuracy of jaccard similarity based recommender, threshold at one: {jaccard_accuracy_one}')\n"
   ]
  },
  {
   "cell_type": "code",
   "execution_count": 77,
   "id": "d332d877-fbca-4945-bc5f-ba4f0af6369e",
   "metadata": {},
   "outputs": [
    {
     "name": "stdout",
     "output_type": "stream",
     "text": [
      "Accuracy of jaccard similarity based recommender, threshold at ten: 0.3658210947930574\n"
     ]
    }
   ],
   "source": [
    "jaccard_similarity_ten = 1 - pairwise_distances(sparse_item_user_matrix_ten.toarray(), metric=\"jaccard\")\n",
    "jaccard_recommendations_ten = get_all_recommendations(test_greater_ten_past_purchases, jaccard_similarity_ten, item_to_index_ten, index_to_item_ten)\n",
    "jaccard_accuracy_ten = get_accuracy(jaccard_recommendations_ten, test_greater_ten_most_recent_purchase)\n",
    "print(f'Accuracy of jaccard similarity based recommender, threshold at ten: {jaccard_accuracy_ten}')"
   ]
  },
  {
   "cell_type": "code",
   "execution_count": 78,
   "id": "63e4c925-58a2-4631-bfda-a91a9c402515",
   "metadata": {},
   "outputs": [
    {
     "name": "stdout",
     "output_type": "stream",
     "text": [
      "Accuracy of jaccard similarity based recommender, threshold at one hundred: 0.20704845814977973\n"
     ]
    }
   ],
   "source": [
    "jaccard_similarity_hundred = 1 - pairwise_distances(sparse_item_user_matrix_hundred.toarray(), metric=\"jaccard\")\n",
    "jaccard_recommendations_hundred = get_all_recommendations(test_greater_hundred_past_purchases, jaccard_similarity_hundred, item_to_index_hundred, index_to_item_hundred)\n",
    "jaccard_accuracy_hundred = get_accuracy(jaccard_recommendations_hundred, test_greater_hundred_most_recent_purchase)\n",
    "print(f'Accuracy of jaccard similarity based recommender, threshold at one hundred: {jaccard_accuracy_hundred}')"
   ]
  },
  {
   "cell_type": "code",
   "execution_count": 79,
   "id": "f9ea987b-83c2-4386-a798-f8fb4ba1634c",
   "metadata": {},
   "outputs": [
    {
     "name": "stdout",
     "output_type": "stream",
     "text": [
      "Accuracy of NMF-based recommender, threshold at one: 0.13176470588235295\n"
     ]
    }
   ],
   "source": [
    "# NMF\n",
    "from sklearn.decomposition import NMF\n",
    "nmf_model = NMF(n_components=20, init='random', random_state=42)  # Tune n_components as needed\n",
    "item_latent_features_one = nmf_model.fit_transform(sparse_item_user_matrix_one)  # Item latent features\n",
    "\n",
    "# Step 2: Compute cosine similarity between items based on latent features\n",
    "item_similarity_matrix_one = cosine_similarity(item_latent_features_one)\n",
    "nmf_recommendations_one = get_all_recommendations(test_greater_one_past_purchases, item_similarity_matrix_one, item_to_index_one, index_to_item_one)\n",
    "nmf_accuracy_one = get_accuracy(nmf_recommendations_one, test_greater_one_most_recent_purchase)\n",
    "print(f'Accuracy of NMF-based recommender, threshold at one: {nmf_accuracy_one}')\n"
   ]
  },
  {
   "cell_type": "code",
   "execution_count": 80,
   "id": "36e446fe-4bf3-4d4d-8bab-2f0a5a09d87c",
   "metadata": {},
   "outputs": [
    {
     "name": "stdout",
     "output_type": "stream",
     "text": [
      "Accuracy of NMF-based recommender, threshold at ten: 0.09078771695594126\n"
     ]
    }
   ],
   "source": [
    "item_latent_features_ten = nmf_model.fit_transform(sparse_item_user_matrix_ten)  # Item latent features\n",
    "item_similarity_matrix_ten = cosine_similarity(item_latent_features_ten)\n",
    "nmf_recommendations_ten = get_all_recommendations(test_greater_ten_past_purchases, item_similarity_matrix_ten, item_to_index_ten, index_to_item_ten)\n",
    "nmf_accuracy_ten = get_accuracy(nmf_recommendations_ten, test_greater_ten_most_recent_purchase)\n",
    "print(f'Accuracy of NMF-based recommender, threshold at ten: {nmf_accuracy_ten}')"
   ]
  },
  {
   "cell_type": "code",
   "execution_count": 81,
   "id": "411b57bd-3c15-4953-8deb-94e50adfdeb2",
   "metadata": {},
   "outputs": [
    {
     "name": "stdout",
     "output_type": "stream",
     "text": [
      "Accuracy of NMF-based recommender, threshold at one hundred: 0.030837004405286344\n"
     ]
    }
   ],
   "source": [
    "item_latent_features_hundred = nmf_model.fit_transform(sparse_item_user_matrix_hundred)\n",
    "item_similarity_matrix_hundred = cosine_similarity(item_latent_features_hundred)\n",
    "nmf_recommendations_hundred = get_all_recommendations(test_greater_hundred_past_purchases, item_similarity_matrix_hundred, item_to_index_hundred, index_to_item_hundred)\n",
    "nmf_accuracy_hundred = get_accuracy(nmf_recommendations_hundred, test_greater_hundred_most_recent_purchase)\n",
    "print(f'Accuracy of NMF-based recommender, threshold at one hundred: {nmf_accuracy_hundred}')"
   ]
  },
  {
   "cell_type": "markdown",
   "id": "8ba56887-eb48-45ba-b515-6c993c561e16",
   "metadata": {},
   "source": [
    "# Discussion\n",
    "The following table shows the accuracies for each combination of purchase threshold and similarity measure\n",
    "|       | > 1   | > 10   | > 100   |\n",
    "|-------|------------|------------|------------|\n",
    "| Cosine | 0.256   | 0.252   | 0.172  |\n",
    "| Jaccard | 0.364   | 0.366   | 0.207  |\n",
    "| NMF + Cosine | 0.132   | 0.091   | 0.031   |\n",
    "\n",
    "Overall, these accuracy numbers are not high in an absolute sense. This makes a lot of sense to me, since we select only a max of 50 out of 4,000 products as recommendations, the base odds of the next purcase being in that list is not high. \n",
    "\n",
    "It seems that my attempt to improve recommendations with greater purchase thresholds mostly did not improve things. The accuracy for jaccard similarity at the 10 threshold is slightly greater than at the 1 threshold. Evidently, the signal thrown away from customers with fewer purchases outweighted any noise they brought in. The accuracies for the 10 threshold are close to the accuracies for the 1 threshold, which keep a similar amount of the raw data.\n",
    "\n",
    "There also appears to be a clear ranking between recommendation algorithms: Jaccard first, Cosine second, NMF last.  \n",
    "I expected NMF to be the worst performing. As a matrix decomposition algorithm, it doesn't handle sparsity that well. I also picked an arbitrary number of latent factors, 20, that seemed commensurate with broad product categories. Evidently though, what drives people to purchase specific _item_ is not well captures by this latent factor/category. Perhaps if I judged the _latent factor_ of the most recent purchase, I would have seen better results. While this might be useful for other kinds of website personalization, such as category sale targeting, it isn't suited to direct product recommendations.  \n",
    "Cosine similarity is a marked improvement. This is likely due to its better behavior with sparse data. Only the products that are actually purchased factor into the similarities and reocmmendations, with missing interactions completely ignored.  \n",
    "Jaccard similarity performs best of all. It notably improves when the threshold is increased. This distance measure might perform better than cosine because of the binary nature of purchase events. Whereas cosine similarity thinks the magnitudes matter, jaccard only looks for binary overlaps. Perhaps if I ran the analysis on purchase quantity, cosine similarity might have performed better than Jaccard."
   ]
  },
  {
   "cell_type": "markdown",
   "id": "a79306ff-881b-49a2-98b0-f76457973f39",
   "metadata": {},
   "source": [
    "# Conclusion\n",
    "\n",
    "The goal of this project was to build a recommender for items to purchase based on past purchases to users of an unnamed UK online retailer. I created recommendations based on item-item similarities, generated three different ways: cosine similarity, jaccard similarity, and NMF with cosine similarity. I repeated this for three different purchase thresholds: 1, 10, and 100. In the end, I found that Jaccard consistently outperforms Cosine, which consistently outperforms NMF. The modest threshold of 10 purchases proved to be the highest accuracy.\n",
    "\n",
    "There are many possible avenues for improvement here. One is to include the quantity purchased of ecah product. This data was available in the dataset, but was left out for simplicity. If quantity is important in drawing connections, cosine similarity might perform better. Another possible improvement is to use transactions to link together products instead of users. That would mean creating a transaction-product matrix instead of a user-product matrix. This seems more appropriate for a cart based recommender, but it's possible it would outperform in my test harness. Another improvement could be made by factoring in the time of purchase. Products that are purchased by the same customer are more likely to be similar if they're bought close together. This is sort of a generalization of the transaction level grouping I suggested earlier.  A final improvement might be to improve the way similarity scores are combined. This project focused on generating the similarity scores in different ways, but there are plenty of possible ways of combining scores that aren't just summing them at equal weights.\n",
    "\n",
    "In the end, the results of this analysis suggest creating a recommender based on jaccard distances with a modest threshold of purchases."
   ]
  },
  {
   "cell_type": "code",
   "execution_count": null,
   "id": "85d3c0b8-9401-4a7a-a1ea-ba1a6fb64c05",
   "metadata": {},
   "outputs": [],
   "source": []
  }
 ],
 "metadata": {
  "kernelspec": {
   "display_name": "Python 3 (ipykernel)",
   "language": "python",
   "name": "python3"
  },
  "language_info": {
   "codemirror_mode": {
    "name": "ipython",
    "version": 3
   },
   "file_extension": ".py",
   "mimetype": "text/x-python",
   "name": "python",
   "nbconvert_exporter": "python",
   "pygments_lexer": "ipython3",
   "version": "3.11.4"
  }
 },
 "nbformat": 4,
 "nbformat_minor": 5
}
